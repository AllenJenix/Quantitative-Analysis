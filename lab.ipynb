{
 "cells": [
  {
   "metadata": {},
   "cell_type": "markdown",
   "source": [
    "# Portfolio Manager\n",
    "+ PM has **Two** main data structures that depend on each other and some functions.\n",
    "+ **Trading log**, **Holdings**, **Historical total Return** \n",
    "    \n",
    "### Trading Log structure\n",
    "\n",
    "```python\n",
    "trading_log = [\n",
    "    {\"ticker\": \"AAPL\", \"date\": \"2023-01-20\", \"type\": \"Buy\", \"quantity\": 10, \"price\": 150},\n",
    "    {\"ticker\": \"AAPL\", \"date\": \"2023-01-20\", \"type\": \"Sell\", \"quantity\": 5, \"price\": 155}\n",
    "]\n",
    "```\n",
    "\n",
    "|    | ticker | date       | type | quantity | price |\n",
    "|----|--------|------------|------|----------|-------|\n",
    "| 0  | AAPL   | 2023-01-20 | Buy  | 10       | 150   |\n",
    "| 1  | AAPL   | 2023-01-20 | Sell | 5        | 155   |\n",
    "\n",
    "### Holdings structure\n",
    "\n",
    "```python\n",
    "holdings = [\n",
    "    {\"ticker\": \"AAPL\", \"quantity\": 10, \"avg_price\": 150, \"holding_return\": 50, \"return_rate\": 0.033},\n",
    "    {\"ticker\": \"TDW\", \"quantity\": 20, \"avg_price\": 50, \"holding_return\": 100, \"return_rate\": 0.1}\n",
    "]\n",
    "```\n",
    "\n",
    "|    | ticker | quantity | avg_price | total_return | return_rate |\n",
    "|----|--------|----------|-----------|--------------|-------------|\n",
    "| 0  | AAPL   | 10       | 150       | 50           | 0.033       |\n",
    "| 1  | TDW    | 20       | 50        | 100          | 0.1         |\n",
    "\n",
    "### Historical total return\n",
    "\n",
    "```python\n",
    "historical_total_return = [\n",
    "    {\"ticker\": \"AAPL\", \"total_return\": 100, \"total_return_rate\": 0.066}\n",
    "    {\"ticker\": \"TDW\", \"total_return\": 50, \"total_return_rate\": 0.1}\n",
    "]\n",
    "```\n",
    "\n",
    "|    | ticker | total_return | total_return_rate |\n",
    "|----|--------|--------------|-------------------|\n",
    "| 0  | AAPL   | 100          | 0.066             |\n",
    "| 1  | TDW    | 50           | 0.1               |\n"
   ],
   "id": "47757fb70a68014e"
  },
  {
   "metadata": {},
   "cell_type": "markdown",
   "source": [
    "### Timed-Waighted Return(TWR)\n",
    "    Use when comparing my Asset Management Perform with benchmark, such as the S&P 500 index(buy and hold)\n",
    "### Money-Waighted Return(MWR)\n",
    "    Use when estimating the Delta of my Real Asset by annual return"
   ],
   "id": "5ec3e24a5969e659"
  },
  {
   "metadata": {
    "ExecuteTime": {
     "end_time": "2025-01-22T03:01:22.145270Z",
     "start_time": "2025-01-22T03:01:22.119836Z"
    }
   },
   "cell_type": "code",
   "source": [
    "import pandas\n",
    "\n",
    "\n",
    "def TWR():\n",
    "    pass\n",
    "\n",
    "\n",
    "def MWR():\n",
    "    pass"
   ],
   "id": "b7f3a3838f110607",
   "outputs": [],
   "execution_count": 4
  },
  {
   "metadata": {
    "ExecuteTime": {
     "end_time": "2025-01-24T02:42:14.413098Z",
     "start_time": "2025-01-24T02:42:14.409024Z"
    }
   },
   "cell_type": "code",
   "source": [
    "import pandas as pd\n",
    "import numpy as np\n",
    "import yfinance as yf\n",
    "from datetime import datetime as dt\n"
   ],
   "id": "304faad62d08b9f7",
   "outputs": [],
   "execution_count": 13
  },
  {
   "metadata": {},
   "cell_type": "code",
   "outputs": [],
   "execution_count": null,
   "source": [
    "class Portfolio:\n",
    "    def __init__(self):\n",
    "        self.trading_log = []\n",
    "        self.holdings = []\n",
    "        self.historical_return = []\n",
    "        \n",
    "    def __transaction(self, Ticker: str, Date: dt.date, Type: str, Quantity: int, Price: float):\n",
    "        self.trading_log.append({\"Ticker\": Ticker, \"Date\": Date, \"Type\": Type, \"Quantity\": Quantity, \"Price\": Price})\n",
    "    \n",
    "    def __update_holdings(self): \n",
    "        if self.trading_log[-1][\"Type\"] == \"buy\":\n",
    "            pass\n",
    "        elif self.trading_log[-1][\"Type\"] == \"sell\":\n",
    "            pass\n",
    "            \n",
    "    def __update_historical_return(self):\n",
    "        pass\n",
    "    \n",
    "    def __update(self):\n",
    "        self.__update_holdings()\n",
    "        self.__update_historical_return()\n",
    "        \n",
    "    def log(self, Ticker, Date, Type, Quantity, Price):\n",
    "        self.__transaction(Ticker, Date, Type, Quantity, Price)\n",
    "        self.__update()\n",
    "        \n",
    "    \n",
    "        "
   ],
   "id": "530b0b5acfaea099"
  },
  {
   "metadata": {
    "ExecuteTime": {
     "end_time": "2025-01-24T02:25:47.253084Z",
     "start_time": "2025-01-24T02:25:47.105994Z"
    }
   },
   "cell_type": "code",
   "source": [
    "import yfinance as yf\n",
    "\n",
    "# 종목 생성 (예: AAPL - Apple Inc.)\n",
    "ticker = yf.Ticker(\"AAPL\")\n",
    "\n",
    "# 종목 정보 가져오기\n",
    "info = ticker.info\n",
    "info\n",
    "\n",
    "# 최신 가격 조회\n",
    "current_price = info['currentPrice']\n",
    "print(f\"Current Price of AAPL: {current_price}\")\n"
   ],
   "id": "b3a67e6ee290fdea",
   "outputs": [
    {
     "name": "stdout",
     "output_type": "stream",
     "text": [
      "Current Price of AAPL: 223.66\n"
     ]
    }
   ],
   "execution_count": 11
  },
  {
   "metadata": {
    "ExecuteTime": {
     "end_time": "2025-01-28T21:21:30.389938Z",
     "start_time": "2025-01-28T21:21:30.381261Z"
    }
   },
   "cell_type": "code",
   "source": [
    "from datetime import datetime\n",
    "\n",
    "# 현재 날짜와 시간 가져오기\n",
    "current_datetime = datetime.now()\n",
    "\n",
    "# 날짜만 가져오기\n",
    "current_date = current_datetime.date()\n",
    "\n",
    "# print(\"현재 날짜와 시간:\", current_datetime)\n",
    "print(\"현재 날짜:\", current_date)\n"
   ],
   "id": "61a44342ab3396e8",
   "outputs": [
    {
     "name": "stdout",
     "output_type": "stream",
     "text": [
      "현재 날짜: 2025-01-29\n"
     ]
    }
   ],
   "execution_count": 1
  }
 ],
 "metadata": {
  "kernelspec": {
   "display_name": "Python 3",
   "language": "python",
   "name": "python3"
  },
  "language_info": {
   "codemirror_mode": {
    "name": "ipython",
    "version": 2
   },
   "file_extension": ".py",
   "mimetype": "text/x-python",
   "name": "python",
   "nbconvert_exporter": "python",
   "pygments_lexer": "ipython2",
   "version": "2.7.6"
  }
 },
 "nbformat": 4,
 "nbformat_minor": 5
}
